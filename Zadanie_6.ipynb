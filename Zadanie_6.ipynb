{
 "cells": [
  {
   "cell_type": "code",
   "execution_count": 1,
   "metadata": {},
   "outputs": [],
   "source": [
    "def liczby_catalana(n=1):\n",
    "    '''\n",
    "    Funkcja zwraca listę n+1 liczb Catalana\n",
    "\n",
    "    Argumenty:\n",
    "    n (int) - ilość liczb Catalana (domyślnie 1)\n",
    "    '''\n",
    "    wynik = [1]\n",
    "    for _ in range(1, n+1):\n",
    "        nowy = []\n",
    "        for i in range(len(wynik)):\n",
    "            nowy.append(wynik[i]*wynik[len(wynik)-1-i])\n",
    "        wynik.append(sum(nowy))\n",
    "    return wynik"
   ]
  },
  {
   "cell_type": "code",
   "execution_count": 2,
   "metadata": {},
   "outputs": [
    {
     "data": {
      "image/png": "[encoded data removed]",
      "text/plain": [
       "<Figure size 432x288 with 1 Axes>"
      ]
     },
     "metadata": {
      "needs_background": "light"
     },
     "output_type": "display_data"
    }
   ],
   "source": [
    "import matplotlib.pyplot as plt\n",
    "import numpy as np\n",
    "\n",
    "\n",
    "def f(n):\n",
    "    '''\n",
    "    Funkcja zwraca przybliżenie Stirlinga dla liczb \n",
    "    Catalana.\n",
    "\n",
    "    Argumenty:\n",
    "    n (int) - numer liczby Catalana\n",
    "    '''\n",
    "    wynik = (4**n)/(n**(3/2)*np.sqrt(np.pi))\n",
    "    return wynik\n",
    "\n",
    "\n",
    "t = [10*i+1 for i in range(16)]\n",
    "x = np.array([liczby_catalana(x)[-1]/f(x) for x in t])\n",
    "x_label = [f'$n_{{{i+1}}}$' for i in range(15)]\n",
    "x_label.insert(0, '1')\n",
    "x_label.insert(-1, '151')\n",
    "\n",
    "ytic = [round(x[0], 2), 1]\n",
    "roznica = abs(x[1:]-x[:-1])\n",
    "for i in range(len(roznica)):\n",
    "    if roznica[i] > 0.04:\n",
    "        ytic.insert(-1, round(x[i+1], 2))\n",
    "\n",
    "plt.plot(t, x, marker='s', markerfacecolor='r',\n",
    "         markeredgecolor='b', markersize=7, linestyle=':')\n",
    "plt.axhline(y=1, linestyle='--', color='gray')\n",
    "plt.xlim(-5, 160)\n",
    "plt.ylim(0.4, 1.1)\n",
    "plt.yticks(ytic)\n",
    "plt.xticks(t, x_label)\n",
    "plt.title('Iloraz $C_n/f(n)$')\n",
    "plt.xlabel('Wartości $n_i$')\n",
    "plt.show()"
   ]
  },
  {
   "cell_type": "code",
   "execution_count": 3,
   "metadata": {},
   "outputs": [
    {
     "data": {
      "image/png": "[encoded data removed]",
      "text/plain": [
       "<Figure size 432x288 with 1 Axes>"
      ]
     },
     "metadata": {
      "needs_background": "light"
     },
     "output_type": "display_data"
    }
   ],
   "source": [
    "import math\n",
    "\n",
    "\n",
    "def S(n):\n",
    "    '''\n",
    "    Funkcja zwraca przybliżenie Stirlinga dla n!\n",
    "\n",
    "    Argumenty:\n",
    "    n (int) - stopień silni\n",
    "    '''\n",
    "    wynik = np.sqrt(2*np.pi*n)*((n/np.e)**n)\n",
    "    return wynik\n",
    "\n",
    "\n",
    "def R(n):\n",
    "    '''\n",
    "    Funkcja zwraca przybliżenie Ramanujana dla n!\n",
    "\n",
    "    Argumenty:\n",
    "    n (int) - stopień silni\n",
    "    '''\n",
    "    wynik = np.sqrt(np.pi)*(n/np.e)**n*(8*n**3 + 4*n**2 + n + 1/30)**(1/6)\n",
    "    return wynik\n",
    "\n",
    "\n",
    "def B(n):\n",
    "    '''\n",
    "    Funkcja zwraca przybliżenie Burnside'a dla n!\n",
    "\n",
    "    Argumenty:\n",
    "    n (int) - stopień silni\n",
    "    '''\n",
    "    wynik = np.sqrt(2*np.pi)*(((n+0.5)/np.e)**(n+0.5))\n",
    "    return wynik\n",
    "\n",
    "\n",
    "t = [i for i in range(2, 151)]\n",
    "S = np.array([math.factorial(x)/S(x) for x in t])\n",
    "R = np.array([math.factorial(x)/R(x) for x in t])\n",
    "B = np.array([math.factorial(x)/B(x) for x in t])\n",
    "\n",
    "s = len([x for x in abs(S-1) if x > 0.0006])+2  # obliczenia kiedy przybliżenie\n",
    "r = len([x for x in abs(R-1) if x > 0.0006])+2  # jest z dokładnością do\n",
    "b = len([x for x in abs(B-1) if x > 0.0006])+2  # epsilon = 0.0006\n",
    "\n",
    "plt.scatter(t, S, color='b', s=6, label='Stirling')\n",
    "plt.scatter(t, R, color='r', s=6, label='Ramanujan')\n",
    "plt.scatter(t, B, color='black', s=6, label='Burnside')\n",
    "plt.axvline(r, linestyle='-.', color='r')\n",
    "plt.axvline(b, linestyle='-.', color='black')\n",
    "plt.axvline(s, linestyle='-.', color='b')\n",
    "plt.xlim(-5, 155)\n",
    "plt.ylim(0.975, 1.055)\n",
    "plt.yticks([0.994, 1, 1.006], ['1-10$\\epsilon$', '1', '1+10$\\epsilon$'])\n",
    "plt.xticks([s, r, b])\n",
    "plt.title('Porównanie wzorów przybliżających wartość n!')\n",
    "plt.xlabel('n')\n",
    "plt.legend(loc=[0.55, 0.7])\n",
    "plt.show()"
   ]
  },
  {
   "cell_type": "code",
   "execution_count": null,
   "metadata": {},
   "outputs": [],
   "source": []
  }
 ],
 "metadata": {
  "kernelspec": {
   "display_name": "Python 3",
   "language": "python",
   "name": "python3"
  },
  "language_info": {
   "codemirror_mode": {
    "name": "ipython",
    "version": 3
   },
   "file_extension": ".py",
   "mimetype": "text/x-python",
   "name": "python",
   "nbconvert_exporter": "python",
   "pygments_lexer": "ipython3",
   "version": "3.7.4"
  },
  "toc": {
   "base_numbering": 1,
   "nav_menu": {},
   "number_sections": true,
   "sideBar": true,
   "skip_h1_title": false,
   "title_cell": "Table of Contents",
   "title_sidebar": "Contents",
   "toc_cell": false,
   "toc_position": {},
   "toc_section_display": true,
   "toc_window_display": false
  },
  "varInspector": {
   "cols": {
    "lenName": 16,
    "lenType": 16,
    "lenVar": 40
   },
   "kernels_config": {
    "python": {
     "delete_cmd_postfix": "",
     "delete_cmd_prefix": "del ",
     "library": "var_list.py",
     "varRefreshCmd": "print(var_dic_list())"
    },
    "r": {
     "delete_cmd_postfix": ") ",
     "delete_cmd_prefix": "rm(",
     "library": "var_list.r",
     "varRefreshCmd": "cat(var_dic_list()) "
    }
   },
   "types_to_exclude": [
    "module",
    "function",
    "builtin_function_or_method",
    "instance",
    "_Feature"
   ],
   "window_display": false
  }
 },
 "nbformat": 4,
 "nbformat_minor": 2
}
