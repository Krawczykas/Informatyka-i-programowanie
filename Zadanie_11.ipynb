{
 "cells": [
  {
   "cell_type": "markdown",
   "metadata": {},
   "source": [
    "Zad 1"
   ]
  },
  {
   "cell_type": "markdown",
   "metadata": {},
   "source": [
    "Potrzebne funkcje"
   ]
  },
  {
   "cell_type": "code",
   "execution_count": 15,
   "metadata": {},
   "outputs": [],
   "source": [
    "import random\n",
    "import math\n",
    "\n",
    "\n",
    "def czy_pierwsza(n):                           # Funkcja z wykładów\n",
    "    '''\n",
    "    Funkcja sprawdza czy liczba jest liczbą pierwszą\n",
    "\n",
    "    Argumenty:\n",
    "    n (int) - liczba którą sprawdzamy\n",
    "    '''\n",
    "    if n < 2:\n",
    "        return False\n",
    "    k = 2\n",
    "    while k*k <= n:\n",
    "        if n % k == 0:\n",
    "            return False\n",
    "        k += 1\n",
    "    return True\n",
    "\n",
    "\n",
    "def NWD(a, b):                                 # Funkcja z wykładów i laboratoriów\n",
    "    '''\n",
    "    Funkcja znajduje największy wspólny dzielnik dwóch liczb\n",
    "\n",
    "    Argumenty:\n",
    "    a (int) - pierwsza niewiadoma \n",
    "    b (int) - druga niewiadoma\n",
    "    '''\n",
    "    c = 0\n",
    "    while b != 0:\n",
    "        c = a % b\n",
    "        a, b = b, c\n",
    "    return a\n",
    "\n",
    "\n",
    "def pierwsze_sito(N):                          # Funkcja z wykładów\n",
    "    '''\n",
    "    Funkcja tworzy listę liczb pierwszych mniejszych od N \n",
    "    używając metody sita Eratostenesa\n",
    "\n",
    "    Argumenty:\n",
    "    N (int) - górna granica liczb pierwszych\n",
    "    '''\n",
    "    kandydaci = list(range(N))\n",
    "    kandydaci[0] = None\n",
    "    kandydaci[1] = None\n",
    "    for x in kandydaci:\n",
    "        if x is None:\n",
    "            continue\n",
    "        if x*x >= N:\n",
    "            break\n",
    "        for y in range(2*x, N, x):\n",
    "            kandydaci[y] = None\n",
    "    return [x for x in kandydaci if x is not None]\n",
    "\n",
    "\n",
    "def xgdc(a, b):  # Funkcja z wykładu\n",
    "    '''\n",
    "    Funkcja zwraca jedno z możliwych rozwiązań\n",
    "    równania a*x + b*y = k dla całkowitych\n",
    "    k, x, y.\n",
    "\n",
    "    Argumenty:\n",
    "        a (int) - argument przy x\n",
    "        b (int) - argument przy y\n",
    "    '''\n",
    "    if b == 0:\n",
    "        return(a, 1, 0)\n",
    "    else:\n",
    "        g, x, y = xgdc(b, a % b)\n",
    "        return (g, y, x - (a//b) * y)\n",
    "\n",
    "\n",
    "def rozw2(a, b, c):  # Funkcja z laboratoriów\n",
    "    '''\n",
    "    Funkcja zwraca jedno rozwiązanie \n",
    "    równania postaci a*x + b*y = c\n",
    "    dla całkowitych x, y. \n",
    "\n",
    "    Argumenty:\n",
    "        a (int) - argument przy x\n",
    "        b (int) - argument przy y\n",
    "        c (int) - wynik równania \n",
    "\n",
    "    '''\n",
    "    if c % NWD(a, b) != 0:\n",
    "        return None\n",
    "    else:\n",
    "        g, x1, y1 = xgdc(a, b)\n",
    "        return (x1*c//g, y1*c//g)\n",
    "\n",
    "\n",
    "def algorytm_rsa(n=100):\n",
    "    '''\n",
    "    Funkcja generuje zestaw kluczy - publiczny i prywatny\n",
    "    używając algorytmu RSA\n",
    "\n",
    "    Argumenty:\n",
    "    n (int) - górny zakres wybierania losowych liczb pierwszych \n",
    "              (domyślnie 100)\n",
    "    '''\n",
    "    pierwsze = pierwsze_sito(n)\n",
    "    p = random.choice(pierwsze)\n",
    "    q = random.choice(pierwsze)\n",
    "    z = p*q\n",
    "    phi = (p-1)*(q-1)\n",
    "    e = 2\n",
    "    while NWD(e, phi) != 1:\n",
    "        e += 1\n",
    "    d = rozw2(e, phi, 1)[0]\n",
    "    if d < 0:\n",
    "        k = math.ceil(abs(d) * NWD(e, phi)//phi) + 1\n",
    "        # wyliczamy k ze wzorów z zadania domowego 8\n",
    "        d = d + ((phi//NWD(e, phi))*k)\n",
    "\n",
    "    return ((z, e), (z, d))"
   ]
  },
  {
   "cell_type": "code",
   "execution_count": 16,
   "metadata": {},
   "outputs": [],
   "source": [
    "def zaszyfruj(wiadomosc, klucze):\n",
    "    '''\n",
    "    Funkcja szyfruje liczby użwyając algorytmu RSA\n",
    "\n",
    "    Argumenty:\n",
    "    wiadomosc (int) - liczba do zaszyfrowania\n",
    "    klucze (tuple) - zestaw kluczy\n",
    "    '''\n",
    "    if wiadomosc >= klucze[0][0]:\n",
    "        raise ValueError('Wiadomoć ma być mniejsza niż z')\n",
    "\n",
    "    zaszyfrowana = pow(wiadomosc, klucze[0][1], klucze[0][0])\n",
    "    return zaszyfrowana\n",
    "\n",
    "\n",
    "def odszyfruj(wiadomosc, klucze):\n",
    "    '''\n",
    "    Funkcja odszyfrowuje liczby użwyając algorytmu RSA\n",
    "\n",
    "    Argumenty:\n",
    "    wiadomosc (int) - liczba do odszyfrowania\n",
    "    klucze (tuple) - zestaw kluczy\n",
    "    '''\n",
    "    odszyfrowana = pow(wiadomosc, klucze[1][1], klucze[1][0])\n",
    "    return odszyfrowana"
   ]
  },
  {
   "cell_type": "code",
   "execution_count": 17,
   "metadata": {},
   "outputs": [],
   "source": [
    "def sprawdzanie_działania(wiadomosc, n=1000):\n",
    "    '''\n",
    "    Funkcja która pozwala szybko sprawdzić działanie kodowania \n",
    "    i odkodowywania liczb używając algorytmu RSA\n",
    "\n",
    "    Argumenty:\n",
    "    wiadomosc (int) - liczba do sprawdzenia\n",
    "    n (int) - górny zakres wybierania losowych liczb pierwszych \n",
    "              (domyślnie 1000) \n",
    "    '''\n",
    "    klucze = algorytm_rsa(n)\n",
    "    return wiadomosc == odszyfruj(zaszyfruj(wiadomosc, klucze), klucze)"
   ]
  },
  {
   "cell_type": "markdown",
   "metadata": {},
   "source": [
    "Przykład"
   ]
  },
  {
   "cell_type": "code",
   "execution_count": 18,
   "metadata": {},
   "outputs": [
    {
     "data": {
      "text/plain": [
       "((301, 5), (301, 101))"
      ]
     },
     "execution_count": 18,
     "metadata": {},
     "output_type": "execute_result"
    }
   ],
   "source": [
    "algorytm_rsa()"
   ]
  },
  {
   "cell_type": "code",
   "execution_count": 19,
   "metadata": {},
   "outputs": [
    {
     "data": {
      "text/plain": [
       "True"
      ]
     },
     "execution_count": 19,
     "metadata": {},
     "output_type": "execute_result"
    }
   ],
   "source": [
    "sprawdzanie_działania(10)"
   ]
  },
  {
   "cell_type": "markdown",
   "metadata": {},
   "source": [
    "Zad 2"
   ]
  },
  {
   "cell_type": "markdown",
   "metadata": {},
   "source": [
    "Potrzebne funkcje"
   ]
  },
  {
   "cell_type": "code",
   "execution_count": 20,
   "metadata": {},
   "outputs": [],
   "source": [
    "def px(n):\n",
    "    '''\n",
    "    Funkcja znajduje pierwszą liczbę pierwszą większą lub równą n\n",
    "\n",
    "    Argumenty:\n",
    "    n (int) - dowolna liczba\n",
    "    '''\n",
    "    if n % 2 == 0:\n",
    "        n = n+1\n",
    "    while czy_pierwsza(n) == False:\n",
    "        n += 2\n",
    "    return n\n",
    "\n",
    "\n",
    "def losowa_pierwsza(n, x=20):\n",
    "    '''\n",
    "    Funkcja wybiera losową liczbę pierwszą większą od n\n",
    "\n",
    "    Argumenty:\n",
    "    n (int) - dowolna liczba\n",
    "    x (int) - zakres losowych liczb (domyslnie 20)\n",
    "    '''\n",
    "    for i in range(random.randint(1, x)):\n",
    "        n = px(n) + 1\n",
    "    return n-1"
   ]
  },
  {
   "cell_type": "code",
   "execution_count": 21,
   "metadata": {},
   "outputs": [],
   "source": [
    "def klucze(n=10**5, x=20):\n",
    "    '''\n",
    "    Funkcja generuje zestaw kluczy - publiczny i prywatny\n",
    "    używając jako p i q liczb większych od n\n",
    "\n",
    "    Argumenty:\n",
    "    n (int) - dolna granica liczb pierwszych (domyślnie 10**5)\n",
    "    x (int) - zakres losowych liczb (domyslnie 20)\n",
    "    '''\n",
    "    p = losowa_pierwsza(n, x=x)\n",
    "    q = losowa_pierwsza(n, x=x)\n",
    "    z = p*q\n",
    "    phi = (p-1)*(q-1)\n",
    "    e = 2\n",
    "    while NWD(e, phi) != 1:\n",
    "        e += 1\n",
    "    d = rozw2(e, phi, 1)[0]\n",
    "    if d < 0:\n",
    "        k = math.ceil(abs(d) * NWD(e, phi)//phi) + 1\n",
    "        # wyliczamy k ze wzorów z zadania domowego 8\n",
    "        d = d + ((phi//NWD(e, phi))*k)\n",
    "\n",
    "    return ((z, e), (z, d))\n",
    "\n",
    "\n",
    "def zakoduj_tekst(wiadomosc, klucze):\n",
    "    '''\n",
    "    Funkcja zakodowuje wiadomość używając algorytmu RSA\n",
    "\n",
    "    Argumenty:\n",
    "    wiadomosc (str) - wiadomosc do zakodowania\n",
    "    klucze (tuple) - zestaw kluczy                  \n",
    "    '''\n",
    "    # Jako kluczy używam zestawu obu kluczy żeby nie tworzyć kolejnych\n",
    "    # funkcji szyfrujących. Funkcja kodująca z samym kluczem publicznym byłaby\n",
    "    # napisana analogicznie\n",
    "    if len(wiadomosc) > 6:\n",
    "        raise ValueError('Wiadomośc może mieć maksymalnie 6 znaków')\n",
    "\n",
    "    litery = list(wiadomosc.upper())\n",
    "    binarny = ''\n",
    "    for i in range(len(litery)):\n",
    "        binarny += '{0:05b}'.format(ord(litery[i])-64)\n",
    "\n",
    "    nowa = int(binarny, 2)\n",
    "    kod = zaszyfruj(nowa, klucze)\n",
    "    inti = '{:b}'.format(kod)\n",
    "\n",
    "    if len(inti) % 5 != 0:\n",
    "        inti = '0'*(5-len(inti) % 5)+inti\n",
    "    zakodowana = ''\n",
    "    for i in range(len(inti)//5):\n",
    "        zakodowana += str(chr(int(inti[i*5:i*5+5], 2)+64))\n",
    "    return zakodowana\n",
    "\n",
    "\n",
    "def odkoduj_tekst(wiadomosc, klucze):\n",
    "    '''\n",
    "    Funkcja odkodowuje wiadomość używając algorytmu RSA\n",
    "\n",
    "    Argumenty:\n",
    "    wiadomosc (str) - wiadomosc do odkodowania\n",
    "    klucze (tuple) - zestaw kluczy\n",
    "    '''\n",
    "    litery = list(wiadomosc)\n",
    "    binarny = ''\n",
    "    for i in range(len(litery)):\n",
    "        binarny += '{0:05b}'.format(ord(litery[i])-64)\n",
    "\n",
    "    nowa = int(binarny, 2)\n",
    "    kod = odszyfruj(nowa, klucze)  # zakodowana int\n",
    "    inti = '{:b}'.format(kod)\n",
    "\n",
    "    if len(inti) % 5 != 0:\n",
    "        inti = '0'*(5-len(inti) % 5)+inti  # zmieniony na binarny\n",
    "    odkodowana = ''\n",
    "    for i in range(len(inti)//5):\n",
    "\n",
    "        odkodowana += str(chr(int(inti[i*5:i*5+5], 2)+64))\n",
    "\n",
    "    return odkodowana\n",
    "\n",
    "\n",
    "def sprawdzanie_działania2(wiadomosc, n=10**5, x=20):\n",
    "    '''\n",
    "    Funkcja która pozwala szybko sprawdzić działanie kodowania \n",
    "    i odkodowywania słów używając algorytmu RSA\n",
    "\n",
    "    Argumenty:\n",
    "    wiadomosc (int) - wiadomosć do sprawdzenia\n",
    "    n (int) - górny zakres wybierania losowych liczb pierwszych \n",
    "              (domyślnie 100) \n",
    "    x (int) - zakres losowych liczb (domyslnie 20)\n",
    "    '''\n",
    "    kluczyki = klucze(n=n, x=x)\n",
    "    return wiadomosc.upper() == odkoduj_tekst(zakoduj_tekst(wiadomosc, kluczyki), kluczyki)"
   ]
  },
  {
   "cell_type": "markdown",
   "metadata": {},
   "source": [
    "Przykład"
   ]
  },
  {
   "cell_type": "code",
   "execution_count": 22,
   "metadata": {},
   "outputs": [
    {
     "data": {
      "text/plain": [
       "((10023208127, 5), (10023208127, 8018406317))"
      ]
     },
     "execution_count": 22,
     "metadata": {},
     "output_type": "execute_result"
    }
   ],
   "source": [
    "klucze()"
   ]
  },
  {
   "cell_type": "code",
   "execution_count": 23,
   "metadata": {},
   "outputs": [
    {
     "data": {
      "text/plain": [
       "True"
      ]
     },
     "execution_count": 23,
     "metadata": {},
     "output_type": "execute_result"
    }
   ],
   "source": [
    "sprawdzanie_działania2('toTest')"
   ]
  },
  {
   "cell_type": "code",
   "execution_count": null,
   "metadata": {},
   "outputs": [],
   "source": []
  }
 ],
 "metadata": {
  "kernelspec": {
   "display_name": "Python 3",
   "language": "python",
   "name": "python3"
  },
  "language_info": {
   "codemirror_mode": {
    "name": "ipython",
    "version": 3
   },
   "file_extension": ".py",
   "mimetype": "text/x-python",
   "name": "python",
   "nbconvert_exporter": "python",
   "pygments_lexer": "ipython3",
   "version": "3.7.4"
  },
  "toc": {
   "base_numbering": 1,
   "nav_menu": {},
   "number_sections": true,
   "sideBar": true,
   "skip_h1_title": false,
   "title_cell": "Table of Contents",
   "title_sidebar": "Contents",
   "toc_cell": false,
   "toc_position": {},
   "toc_section_display": true,
   "toc_window_display": false
  },
  "varInspector": {
   "cols": {
    "lenName": 16,
    "lenType": 16,
    "lenVar": 40
   },
   "kernels_config": {
    "python": {
     "delete_cmd_postfix": "",
     "delete_cmd_prefix": "del ",
     "library": "var_list.py",
     "varRefreshCmd": "print(var_dic_list())"
    },
    "r": {
     "delete_cmd_postfix": ") ",
     "delete_cmd_prefix": "rm(",
     "library": "var_list.r",
     "varRefreshCmd": "cat(var_dic_list()) "
    }
   },
   "types_to_exclude": [
    "module",
    "function",
    "builtin_function_or_method",
    "instance",
    "_Feature"
   ],
   "window_display": false
  }
 },
 "nbformat": 4,
 "nbformat_minor": 2
}
