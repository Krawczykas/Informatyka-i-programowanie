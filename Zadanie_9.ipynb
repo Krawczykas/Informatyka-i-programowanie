{
 "cells": [
  {
   "cell_type": "markdown",
   "metadata": {},
   "source": [
    "Potrzebne funkcje (z laboratoriów)"
   ]
  },
  {
   "cell_type": "code",
   "execution_count": 1,
   "metadata": {},
   "outputs": [],
   "source": [
    "def porównaj(freq1, freq2):\n",
    "    '''\n",
    "    Funkcja porównuje dwa słowniki z częstotliwościami\n",
    "    i zwraca jak bardzo się od siebie różnią. \n",
    "\n",
    "    Argumenty:\n",
    "    freq1 (dict) - słownik z częstotliwościamy\n",
    "    freq2 (dict) - słownik z częstotliwościami\n",
    "    '''\n",
    "\n",
    "    delta = 0\n",
    "    for litera, częstość in freq1.items():\n",
    "        if litera not in freq2:\n",
    "            delta += częstość\n",
    "        else:\n",
    "            delta += abs(częstość - freq2[litera])\n",
    "    for litera, częstość in freq2.items():\n",
    "        if litera not in freq1:\n",
    "            delta += częstość\n",
    "    return delta\n",
    "\n",
    "\n",
    "freq = {\n",
    "    'A': 0.099, 'B': 0.0147, 'C': 0.0436, 'D': 0.0325, 'E': 0.0877, 'F': 0.003,\n",
    "    'G': 0.0142,\n",
    "    'H': 0.0108, 'I': 0.0821, 'J': 0.0228, 'K': 0.0351, 'L': 0.0392, 'M': 0.028,\n",
    "    'N': 0.0572,\n",
    "    'O': 0.086, 'P': 0.0313, 'Q': 0.0014, 'R': 0.0469, 'S': 0.0498, 'T': 0.0398,\n",
    "    'U': 0.025,\n",
    "    'V': 0.004, 'W': 0.0465, 'X': 0.0002, 'Y': 0.0376, 'Z': 0.0653\n",
    "}"
   ]
  },
  {
   "cell_type": "code",
   "execution_count": 2,
   "metadata": {},
   "outputs": [],
   "source": [
    "def koduj_cezar(wiadomosc, klucz):  # klucz to liczba\n",
    "    '''\n",
    "    Funkcja koduje wiadomość szyfrem cezara \n",
    "    używając liczby jako klucza\n",
    "\n",
    "    Argumenty:\n",
    "    wiadomość (str) - wiadomosć do zaszyfrowania\n",
    "    klucz (int) - o ile przesuwamy w szyfrze cezara\n",
    "\n",
    "    Testy:\n",
    "    >>> koduj_cezar('slowo',5)\n",
    "    'XQTBT'\n",
    "\n",
    "    >>> koduj_cezar('testowy',18)\n",
    "    'LWKLGOQ'\n",
    "\n",
    "    '''\n",
    "    szyfr = ''\n",
    "    wiadomosc = wiadomosc.upper()\n",
    "    for i in range(len(wiadomosc)):\n",
    "        w = wiadomosc[i]\n",
    "        szyfr = szyfr + chr((ord(w)+klucz-65) % 26 + 65)\n",
    "    return szyfr"
   ]
  },
  {
   "cell_type": "code",
   "execution_count": 3,
   "metadata": {},
   "outputs": [],
   "source": [
    "def koduj(napis, klucz='a'):  # klucz to litera\n",
    "    '''\n",
    "    Funkcja koduje wiadomość szyfrem cezara \n",
    "    używając słowa jako klucza\n",
    "\n",
    "    Argumenty:\n",
    "    wiadomość (str) - wiadomosć do zaszyfrowania\n",
    "    klucz (str) - słowo którym szyfujemy\n",
    "\n",
    "    Testy:\n",
    "    >>> koduj('slowo','abcde')\n",
    "    'smqzs'\n",
    "\n",
    "    >>> koduj('testowy','kluczyk')\n",
    "    'dpmvnui'\n",
    "\n",
    "    '''\n",
    "    napis2 = ''\n",
    "    i = 0\n",
    "    for v in napis:\n",
    "        napis2 += chr((ord(v)-ord('a')+ord(klucz[i])-ord('a')) % 26+ord('a'))\n",
    "        i += 1\n",
    "    return napis2"
   ]
  },
  {
   "cell_type": "code",
   "execution_count": 4,
   "metadata": {},
   "outputs": [],
   "source": [
    "def dekoduj_cezar(napis, klucz):  # klucz to liczba\n",
    "    '''\n",
    "    Funkcja dekoduje wiadomość szyfrem cezara \n",
    "    używając liczby jako klucza\n",
    "\n",
    "    Argumenty:\n",
    "    wiadomość (str) - wiadomosć do odszyfrowania\n",
    "    klucz (int) - o ile przesuwamy w szyfrze cezara\n",
    "\n",
    "    Testy:\n",
    "    >>> dekoduj_cezar('XQTBT',5)\n",
    "    'SLOWO'\n",
    "\n",
    "    >>> dekoduj_cezar('LWKLGOQ',18)\n",
    "    'TESTOWY'\n",
    "\n",
    "    '''\n",
    "    return koduj_cezar(napis, -klucz)"
   ]
  },
  {
   "cell_type": "code",
   "execution_count": 5,
   "metadata": {},
   "outputs": [],
   "source": [
    "def dekoduj(napis, klucz):  # klucz to litera\n",
    "    '''\n",
    "    Funkcja dekoduje wiadomość szyfrem cezara \n",
    "    używając słowa jako klucza\n",
    "\n",
    "    Argumenty:\n",
    "    wiadomość (str) - wiadomosć do zaszyfrowania\n",
    "    klucz (str) - słowo którym szyfujemy\n",
    "\n",
    "    Testy:\n",
    "    >>> dekoduj('smqzs','abcde')\n",
    "    'slowo'\n",
    "\n",
    "    >>> dekoduj('dpmvnui','kluczyk')\n",
    "    'testowy'\n",
    "\n",
    "    '''\n",
    "    napis2 = \"\"\n",
    "    i = 0\n",
    "    for v in napis:\n",
    "        napis2 += chr((ord(v)-ord('a') +\n",
    "                       (-ord(klucz[i])+ord('a'))) % 26+ord('a'))\n",
    "        i += 1\n",
    "    return napis2"
   ]
  },
  {
   "cell_type": "markdown",
   "metadata": {},
   "source": [
    "a)"
   ]
  },
  {
   "cell_type": "code",
   "execution_count": 6,
   "metadata": {},
   "outputs": [],
   "source": [
    "def zaszyfruj(tekst, klucz):\n",
    "    '''\n",
    "    Funkcja zwraca wiadomość zaszyfrowaną szyfrem\n",
    "    Vigenere'a.\n",
    "\n",
    "    Argumenty:\n",
    "        tekst (str) - wiadomość do zaszyfrowania\n",
    "        klucz (str) - klucz którym szyfrujemy\n",
    "\n",
    "    Testy:\n",
    "\n",
    "    >>> zaszyfruj('ABRAkadABRA','Pies')\n",
    "    'PJVSZIHSQZE'\n",
    "\n",
    "    >>> zaszyfruj('losowytest', 'klucz')\n",
    "    'VZMQVIEYUS'\n",
    "\n",
    "    '''\n",
    "    # 1. Tworzymy pełny klucz\n",
    "    pelny_klucz = (klucz.lower()*((len(tekst)//len(klucz))+1))[:len(tekst)]\n",
    "    # 2. Szyfrujemy każdą literę przez produktowanie\n",
    "    zaszyfrowany = [koduj(tekst.lower()[i], pelny_klucz[i])\n",
    "                    for i in range(len(tekst))]\n",
    "    # 3. Zwracamy połączoną listę liter i zmieniamy je na wielkie\n",
    "    return ''.join(zaszyfrowany).upper()"
   ]
  },
  {
   "cell_type": "code",
   "execution_count": 7,
   "metadata": {},
   "outputs": [],
   "source": [
    "def deszyfruj(tekst, klucz):\n",
    "    '''\n",
    "    Funkcja zwraca odszyfrowaną wiadomość, która\n",
    "    była zaszyfrowana szyfrem Vigenere'a.\n",
    "\n",
    "    Argumenty:\n",
    "        tekst (str) - wiadomość do odszyfrowania\n",
    "        klucz (str) - klucz użyty do szyfrowania\n",
    "\n",
    "    Testy:\n",
    "\n",
    "    >>> deszyfruj('PJVSZIHSQZE','Pies')\n",
    "    'ABRAKADABRA'\n",
    "\n",
    "    >>> deszyfruj('VZMQVIEYUS', 'klucz')\n",
    "    'LOSOWYTEST'\n",
    "    '''\n",
    "    # 1. Tworzymy pełny klucz\n",
    "    pelny_klucz = (klucz.lower()*((len(tekst)//len(klucz))+1))[:len(tekst)]\n",
    "    # 2. Odszyfrowujemy każdą literę przez produktowanie\n",
    "    zaszyfrowany = [dekoduj(tekst.lower()[i], pelny_klucz[i])\n",
    "                    for i in range(len(tekst))]\n",
    "    # 3. Zwracamy połączoną listę liter i zmieniamy je na wielkie\n",
    "    return ''.join(zaszyfrowany).upper()"
   ]
  },
  {
   "cell_type": "code",
   "execution_count": 8,
   "metadata": {},
   "outputs": [
    {
     "name": "stdout",
     "output_type": "stream",
     "text": [
      "Exception reporting mode: Plain\n",
      "Doctest mode is: ON\n",
      "Exception reporting mode: Context\n",
      "Doctest mode is: OFF\n"
     ]
    }
   ],
   "source": [
    "import doctest\n",
    "%doctest_mode\n",
    "doctest.testmod()\n",
    "%doctest_mode"
   ]
  },
  {
   "cell_type": "markdown",
   "metadata": {},
   "source": [
    "b)"
   ]
  },
  {
   "cell_type": "code",
   "execution_count": 9,
   "metadata": {},
   "outputs": [],
   "source": [
    "def kluczyk(wiadomosc):\n",
    "    '''\n",
    "    Funkcja zwraca liczbę która jest najbardziej \n",
    "    prawdopodobnym kluczem zaszysfrowanej wiadomości\n",
    "\n",
    "    Argumenty:\n",
    "        wiadomosc (str) - wiadomość do odkodowania\n",
    "    '''\n",
    "    # To funkcja zrobiona z kodu z laboratorium\n",
    "\n",
    "    wynik_porownania = {}\n",
    "    # 1. Sprawdzamy szyfr dla każdej litery z angielskiego alfabetu\n",
    "    for i in range(1, 26):\n",
    "        odkodowana = dekoduj_cezar(wiadomosc.lower().replace('\\n', ''), i)\n",
    "        # 2. Liczymy częstotliwość liter dla każdego klucza\n",
    "        czestosc_liter = {v: odkodowana.count(v)/len(odkodowana)\n",
    "                          for v in set(odkodowana)}\n",
    "        # 3. Dodajemy wynik do słownika\n",
    "        wynik_porownania[i] = (porównaj(freq, czestosc_liter))\n",
    "    # 4. Zwracamy która litera w alfabecie jest najpewniej kluczem\n",
    "    return min(wynik_porownania, key=wynik_porownania.get)"
   ]
  },
  {
   "cell_type": "code",
   "execution_count": 10,
   "metadata": {},
   "outputs": [],
   "source": [
    "def deszyfruj_klucz(wiadomosc, dlugosc_klucza):\n",
    "    '''\n",
    "    Funkcja zwraca odszyfrowaną wiadomość, która jest \n",
    "    najbardziej prawdopodobna sprawdzając częstotliwość\n",
    "    występowania liter\n",
    "\n",
    "    Argumenty:\n",
    "        wiadomosc (str) - wiadomość do odszyfrowania\n",
    "        dlugosc_klucza (int) - długość klucza\n",
    "    '''\n",
    "    klucz = []\n",
    "    wynik = ''\n",
    "    # 1. Usuwamy puste znaki i zmieniamy na małe litery\n",
    "    wiadomosc = wiadomosc.lower().replace('\\n', '')\n",
    "\n",
    "    for i in range(dlugosc_klucza):  # 2. Liczymy klucz dla co i-tej litery\n",
    "        klucz.append(kluczyk(wiadomosc[i::dlugosc_klucza]))\n",
    "    # 3. Dekodujemy każdą literę wiadomości przyporządkowanym jej kluczem\n",
    "    for i in range(len(wiadomosc)):\n",
    "        wynik += dekoduj_cezar(wiadomosc[i], klucz[i % dlugosc_klucza])\n",
    "    return wynik"
   ]
  },
  {
   "cell_type": "markdown",
   "metadata": {},
   "source": [
    "Przykład"
   ]
  },
  {
   "cell_type": "code",
   "execution_count": 11,
   "metadata": {},
   "outputs": [
    {
     "data": {
      "text/plain": [
       "'NAZNOSIMYPIASKUNAZWOZIMKAMIENIZBUDUJEMYDOMEKZDRZWICZKAMIDOSIENIZBUDUJEMYDOMEKZJASNYMIOKNAMIZEBYZLOTESLONKOSWIECILONADNAMIANADNASZYMDOMKIEMBEDZIEDACHSLOMIANYZPIEKNYCHZYTNICHSNOPKOWROWNOPOSZYWANYANADACHUBEDZIEGNIAZDODLABOCIANAZEBYNAMKLEKOTALODSAMEGORANA'"
      ]
     },
     "execution_count": 11,
     "metadata": {},
     "output_type": "execute_result"
    }
   ],
   "source": [
    "w = '''FTTQSFBERJLEFDMGUCABSAFEDQVXFB\n",
    "TEYQNBXGBHBFWDTGVMPAVTNEZBVHMLIAB\n",
    "RUOGYWXERXRQRDRCUVRLFAHEQEZB\n",
    "RXVBDYHLXMOSADGLQLIPBDHHDHATEB\n",
    "UQEQGSLTBQQHEDCHQOXVSCHHNVZLFRQVTFR\n",
    "TSMRDFRWKDLMFBWKWAHHDIZVBPFHJRWMROTHB\n",
    "EATVTWKYOXVSCHKABSSXRHYTTHWLEAT\n",
    "RXVBRNFCEYNSGTDHXVEZXYHLDRN\n",
    "'''\n",
    "deszyfruj_klucz(w, 7)"
   ]
  },
  {
   "cell_type": "code",
   "execution_count": null,
   "metadata": {},
   "outputs": [],
   "source": []
  }
 ],
 "metadata": {
  "kernelspec": {
   "display_name": "Python 3",
   "language": "python",
   "name": "python3"
  },
  "language_info": {
   "codemirror_mode": {
    "name": "ipython",
    "version": 3
   },
   "file_extension": ".py",
   "mimetype": "text/x-python",
   "name": "python",
   "nbconvert_exporter": "python",
   "pygments_lexer": "ipython3",
   "version": "3.7.4"
  },
  "toc": {
   "base_numbering": 1,
   "nav_menu": {},
   "number_sections": true,
   "sideBar": true,
   "skip_h1_title": false,
   "title_cell": "Table of Contents",
   "title_sidebar": "Contents",
   "toc_cell": false,
   "toc_position": {},
   "toc_section_display": true,
   "toc_window_display": false
  },
  "varInspector": {
   "cols": {
    "lenName": 16,
    "lenType": 16,
    "lenVar": 40
   },
   "kernels_config": {
    "python": {
     "delete_cmd_postfix": "",
     "delete_cmd_prefix": "del ",
     "library": "var_list.py",
     "varRefreshCmd": "print(var_dic_list())"
    },
    "r": {
     "delete_cmd_postfix": ") ",
     "delete_cmd_prefix": "rm(",
     "library": "var_list.r",
     "varRefreshCmd": "cat(var_dic_list()) "
    }
   },
   "types_to_exclude": [
    "module",
    "function",
    "builtin_function_or_method",
    "instance",
    "_Feature"
   ],
   "window_display": false
  }
 },
 "nbformat": 4,
 "nbformat_minor": 2
}
