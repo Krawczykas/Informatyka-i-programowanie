{
 "cells": [
  {
   "cell_type": "code",
   "execution_count": 271,
   "metadata": {},
   "outputs": [],
   "source": [
    "vat = {'A':0.23,'B':0.08, 'C': 0.05, 'D': 0}"
   ]
  },
  {
   "cell_type": "markdown",
   "metadata": {},
   "source": [
    "1."
   ]
  },
  {
   "cell_type": "code",
   "execution_count": 272,
   "metadata": {},
   "outputs": [],
   "source": [
    "lista_zakupow=[('Mleko św 3.2 1l',3,2.19,\"C\"),('Woda mineralna',6,1.69,\"A\"),\n",
    "               ('Kakao 400g',2,8.55,\"A\"),('Mleko św 3.2 1l',1,2.19,\"C\"),\n",
    "               ('Mleko św 3.2 1l',2,2.19,\"C\"),('Cieszynskie Psz',1,4.99,\"A\"),\n",
    "               ('Ser krolewski',1,4.69,\"C\"),('Banan Luz',1.042,4.85,\"C\"),\n",
    "               ('Ogórek szkl',0.551,6.99,\"C\"),('Musli',1,7.99,\"C\"),\n",
    "               ('Torba',2,0.49,\"A\"),('Musli',1,7.99,\"C\"),\n",
    "               ('Utopijna mrzonka',1,6.66,\"D\")]\n",
    "\n",
    "nowa_lista =[]\n",
    "\n",
    "for rzecz in lista_zakupow:\n",
    "    te_same = list(filter(lambda x:rzecz[0] in x, lista_zakupow)) \n",
    "    ile = 0\n",
    "    for zakup in te_same:\n",
    "        ile += zakup[1]\n",
    "    y = list(zakup)\n",
    "    y[1] = ile\n",
    "    nowa_lista.append(tuple(y))\n",
    "nowa_lista = list(dict.fromkeys(nowa_lista))\n",
    "\n",
    "# funkcja filter daje nam wszystkie elementy listy które spełniają \n",
    "# jakiś warunek, w tym przypadku daje nam wszystkie krotki z \n",
    "# listy_zakupow które zawierają ten sam towar (rzecz[0])\n",
    "\n",
    "# funkcja dict.fromkeys() usuwa wszstkie elementy w listy które się powtarzają\n",
    "# w tym wypadku są to krotki z mlekiem i musli które są tam \n",
    "# odpowiednio 3 i 2 razy"
   ]
  },
  {
   "cell_type": "markdown",
   "metadata": {},
   "source": [
    "2."
   ]
  },
  {
   "cell_type": "code",
   "execution_count": 273,
   "metadata": {},
   "outputs": [],
   "source": [
    "wyniki={}\n",
    "cenaA, cenaB, cenaC, cenaD = 0, 0, 0, 0\n",
    "for rzecz in nowa_lista:\n",
    "    brutto = round(rzecz[1]*rzecz[2],2)\n",
    "    if rzecz[3] == 'A':\n",
    "        cenaA +=brutto\n",
    "    elif rzecz[3] == 'B':\n",
    "        cenaB +=brutto\n",
    "    elif rzecz[3] == 'C':\n",
    "        cenaC +=brutto\n",
    "    else:\n",
    "        cenaD +=brutto\n",
    "cena = cenaA +cenaB+cenaC+cenaD\n",
    "wyniki['A'] = (cenaA,vat['A']*cenaA)\n",
    "wyniki['B'] = (cenaB,vat['B']*cenaB)\n",
    "wyniki['C'] = (cenaC,vat['C']*cenaC)\n",
    "wyniki['D'] = (cenaD,vat['D']*cenaD)\n",
    "podatek = sum([round(num, 2) for num in \n",
    "               list(x[1] for x in wyniki.values())])"
   ]
  },
  {
   "cell_type": "markdown",
   "metadata": {},
   "source": [
    "3."
   ]
  },
  {
   "cell_type": "code",
   "execution_count": 274,
   "metadata": {},
   "outputs": [
    {
     "name": "stdout",
     "output_type": "stream",
     "text": [
      "                 PARAGON FISKALNY                 \n",
      "Mleko św 3.2 1l                      6x2.19 zł   C\n",
      "Woda mineralna                       6x1.69 zł   A\n",
      "Kakao 400g                           2x8.55 zł   A\n",
      "Cieszynskie Psz                      1x4.99 zł   A\n",
      "Ser krolewski                        1x4.69 zł   C\n",
      "Banan Luz                        1.042x4.85 zł   C\n",
      "Ogórek szkl                      0.551x6.99 zł   C\n",
      "Musli                                2x7.99 zł   C\n",
      "Torba                                2x0.49 zł   A\n",
      "Utopijna mrzonka                     1x6.66 zł   D\n",
      "--------------------------------------------------\n",
      "Sp. op. A            33.21 PTU    23%      7.64 zł\n",
      "Sp. op. C            42.71 PTU     5%      2.14 zł\n",
      "SUMA PTU                                   9.78 zł\n",
      "--------------------------------------------------\n",
      "Suma PTU                                  82.58 zł\n"
     ]
    }
   ],
   "source": [
    "tytul = '{:^{n}}'.format('PARAGON FISKALNY',n=50)\n",
    "dziel = '-'*50\n",
    "suma_brutto = 'Suma PTU{:>{n}.2f} zł'.format(cena,n=39)\n",
    "suma_podatkow = 'SUMA PTU{:>{n}.2f} zł'.format(podatek,n=39)\n",
    "\n",
    "print(tytul)\n",
    "for rzecz in nowa_lista:\n",
    "    cena = f'{rzecz[1]}x'+'{:.2f}'.format(rzecz[2])\n",
    "    co = f'{rzecz[0]}'+'{: >{n}} zł   '.format(cena,n= \n",
    "            43-len(rzecz[0]))+f'{rzecz[3]}'\n",
    "    print(co)\n",
    "print(dziel)\n",
    "for litera in vat.keys():\n",
    "    if wyniki[litera][1]!=0:\n",
    "        sp = f'Sp. op. {litera}' \n",
    "        ptu = '{:>{n}.2f} PTU'.format(wyniki[litera][0],n=17) \n",
    "        proc = '{:>{n}}%'.format(str(int((vat[litera])*100)),n=6) \n",
    "        zl = '{:>{n}.2f} zł'.format(wyniki[litera][1],n=10)\n",
    "        print(sp+ptu+proc+zl)\n",
    "    else:\n",
    "        continue\n",
    "print(suma_podatkow)\n",
    "print(dziel)\n",
    "print(suma_brutto)"
   ]
  },
  {
   "cell_type": "code",
   "execution_count": null,
   "metadata": {},
   "outputs": [],
   "source": []
  }
 ],
 "metadata": {
  "kernelspec": {
   "display_name": "Python 3",
   "language": "python",
   "name": "python3"
  },
  "language_info": {
   "codemirror_mode": {
    "name": "ipython",
    "version": 3
   },
   "file_extension": ".py",
   "mimetype": "text/x-python",
   "name": "python",
   "nbconvert_exporter": "python",
   "pygments_lexer": "ipython3",
   "version": "3.7.4"
  },
  "varInspector": {
   "cols": {
    "lenName": 16,
    "lenType": 16,
    "lenVar": 40
   },
   "kernels_config": {
    "python": {
     "delete_cmd_postfix": "",
     "delete_cmd_prefix": "del ",
     "library": "var_list.py",
     "varRefreshCmd": "print(var_dic_list())"
    },
    "r": {
     "delete_cmd_postfix": ") ",
     "delete_cmd_prefix": "rm(",
     "library": "var_list.r",
     "varRefreshCmd": "cat(var_dic_list()) "
    }
   },
   "types_to_exclude": [
    "module",
    "function",
    "builtin_function_or_method",
    "instance",
    "_Feature"
   ],
   "window_display": false
  }
 },
 "nbformat": 4,
 "nbformat_minor": 2
}
