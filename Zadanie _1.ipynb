{
 "cells": [
  {
   "cell_type": "markdown",
   "metadata": {},
   "source": [
    "### Treść zadania ###"
   ]
  },
  {
   "cell_type": "markdown",
   "metadata": {},
   "source": [
    "Z samolotu lecącego (równolegle do podłoża) na pułapie $h_0$ ze stałą prędkością $v_s$,\n",
    "zrzucany jest ładunek. Z jaką prędkością początkową $v_0$ należy wystrzelić pocisk z\n",
    "działa znajdującego się w odległości $l_0$ od punktu zrzutu, którego lufa nachylona\n",
    "jest do poziomu pod kątem $α ∈ (0^{\\circ}, 90^{\\circ})$, aby pocisk trafił w ładunek? Po jakim\n",
    "czasie $t$, na jakiej wysokości $h$ oraz w jakiej odległości $l$ od działa, ładunek zostanie\n",
    "zestrzelony? Opór powietrza zaniedbujemy.\n"
   ]
  },
  {
   "cell_type": "code",
   "execution_count": 26,
   "metadata": {},
   "outputs": [],
   "source": [
    "g = 9.81\n",
    "\n",
    "h10 = 4000\n",
    "l10 = 5650 # 5.65 km = 5650 m\n",
    "alpha1 = 63\n",
    "vs1 = 220\n",
    "\n",
    "h20 = 8300 # 8.3 km = 8300 m\n",
    "l20 = 14000 # 14 km = 14000 m\n",
    "alpha2 = 72\n",
    "vs2 = 300"
   ]
  },
  {
   "cell_type": "markdown",
   "metadata": {},
   "source": [
    "$$\\Large{v_0 = \\frac{h_0 v_s}{l_0 \\sin(\\alpha) - h_0 \\cos(\\alpha)}}$$"
   ]
  },
  {
   "cell_type": "code",
   "execution_count": 27,
   "metadata": {},
   "outputs": [],
   "source": [
    "import math\n",
    "\n",
    "v1 = (h10*vs1)/(l10 * (math.sin(alpha1*math.pi/180)) - \n",
    "               (h10 * (math.cos(alpha1*math.pi/180))))\n",
    "v2 = (h20*vs2)/(l20 * (math.sin(alpha2*math.pi/180)) - \n",
    "               (h20 * (math.cos(alpha2*math.pi/180))))"
   ]
  },
  {
   "cell_type": "markdown",
   "metadata": {},
   "source": [
    "$$ \\Large{t=\\frac{h_0}{v_0 \\sin(\\alpha)}}$$"
   ]
  },
  {
   "cell_type": "code",
   "execution_count": 28,
   "metadata": {},
   "outputs": [],
   "source": [
    "t1 = h10/(v1*(math.sin(alpha1*math.pi/180)))\n",
    "t2 = h20/(v2*(math.sin(alpha2*math.pi/180)))"
   ]
  },
  {
   "cell_type": "markdown",
   "metadata": {},
   "source": [
    "$$\\Large{h = h_0 - \\frac{1}{2} g t^2}$$"
   ]
  },
  {
   "cell_type": "code",
   "execution_count": 29,
   "metadata": {},
   "outputs": [],
   "source": [
    "h1 = h10 - (1/2)*g*t1**2 \n",
    "h2 = h20 - (1/2)*g*t2**2 "
   ]
  },
  {
   "cell_type": "markdown",
   "metadata": {},
   "source": [
    "$$\\Large{l = l_0 - v_s t}$$"
   ]
  },
  {
   "cell_type": "code",
   "execution_count": 30,
   "metadata": {},
   "outputs": [],
   "source": [
    "l1 = l10 - vs1*t1\n",
    "l2 = l20 - vs2*t2"
   ]
  },
  {
   "cell_type": "code",
   "execution_count": 31,
   "metadata": {},
   "outputs": [
    {
     "name": "stdout",
     "output_type": "stream",
     "text": [
      "v1 to: 273.44 m/s\n",
      "t1 to: 16.42 s\n",
      "h1 to: 2677.9 m\n",
      "l1 to: 2038.1 m\n",
      "------------------\n",
      "v2 to: 231.63 m/s\n",
      "t2 to: 37.68 s\n",
      "h2 to: 1336.99 m\n",
      "l2 to: 2696.83 m\n"
     ]
    }
   ],
   "source": [
    "print('v1 to: ' + str(round(v1,2))+' m/s')\n",
    "print('t1 to: ' + str(round(t1,2))+' s')  \n",
    "print('h1 to: ' + str(round(h1,2))+' m')\n",
    "print('l1 to: ' + str(round(l1,2))+' m')\n",
    "print(18*'-')\n",
    "print('v2 to: ' + str(round(v2,2))+' m/s')\n",
    "print('t2 to: ' + str(round(t2,2))+' s')\n",
    "print('h2 to: ' + str(round(h2,2))+' m')\n",
    "print('l2 to: ' + str(round(l2,2))+' m')"
   ]
  },
  {
   "cell_type": "code",
   "execution_count": null,
   "metadata": {},
   "outputs": [],
   "source": []
  }
 ],
 "metadata": {
  "kernelspec": {
   "display_name": "Python 3",
   "language": "python",
   "name": "python3"
  },
  "language_info": {
   "codemirror_mode": {
    "name": "ipython",
    "version": 3
   },
   "file_extension": ".py",
   "mimetype": "text/x-python",
   "name": "python",
   "nbconvert_exporter": "python",
   "pygments_lexer": "ipython3",
   "version": "3.7.4"
  },
  "toc": {
   "base_numbering": 1,
   "nav_menu": {},
   "number_sections": true,
   "sideBar": true,
   "skip_h1_title": false,
   "title_cell": "Table of Contents",
   "title_sidebar": "Contents",
   "toc_cell": false,
   "toc_position": {},
   "toc_section_display": true,
   "toc_window_display": false
  },
  "varInspector": {
   "cols": {
    "lenName": 16,
    "lenType": 16,
    "lenVar": 40
   },
   "kernels_config": {
    "python": {
     "delete_cmd_postfix": "",
     "delete_cmd_prefix": "del ",
     "library": "var_list.py",
     "varRefreshCmd": "print(var_dic_list())"
    },
    "r": {
     "delete_cmd_postfix": ") ",
     "delete_cmd_prefix": "rm(",
     "library": "var_list.r",
     "varRefreshCmd": "cat(var_dic_list()) "
    }
   },
   "types_to_exclude": [
    "module",
    "function",
    "builtin_function_or_method",
    "instance",
    "_Feature"
   ],
   "window_display": false
  }
 },
 "nbformat": 4,
 "nbformat_minor": 2
}
