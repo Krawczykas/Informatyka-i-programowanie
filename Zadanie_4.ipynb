{
 "cells": [
  {
   "cell_type": "markdown",
   "metadata": {},
   "source": [
    "## Funkcja pascal() "
   ]
  },
  {
   "cell_type": "code",
   "execution_count": 2,
   "metadata": {
    "code_folding": []
   },
   "outputs": [],
   "source": [
    "def pascal(n=1, trojkat=True):\n",
    "    \"\"\"Funkcja zwraca trójkąt pascala w formacie listy\n",
    "    lub ostatnie jego piętro.\n",
    "\n",
    "    Argumenty:\n",
    "    n (int): ilość pięter piramidy (domyślnie 1)\n",
    "    trojkat (bool): sposób wyswietlania(domyślnie True)\n",
    "\n",
    "    \"\"\"\n",
    "    wynik = [[1], [1, 1]]\n",
    "    for _ in range(n-1):\n",
    "        poprzednie = wynik[-1]\n",
    "        nowy = [1, 1]\n",
    "        for x in range(len(poprzednie)-1):\n",
    "            nowa_liczba = poprzednie[x]+poprzednie[x+1]\n",
    "            nowy.insert(-1, nowa_liczba)\n",
    "        wynik.append(nowy)\n",
    "    if trojkat == True:\n",
    "        return wynik\n",
    "    else:\n",
    "        return wynik[-1]"
   ]
  },
  {
   "cell_type": "code",
   "execution_count": 20,
   "metadata": {},
   "outputs": [
    {
     "data": {
      "text/plain": [
       "[[1], [1, 1]]"
      ]
     },
     "execution_count": 20,
     "metadata": {},
     "output_type": "execute_result"
    }
   ],
   "source": [
    "pascal()"
   ]
  },
  {
   "cell_type": "code",
   "execution_count": 21,
   "metadata": {},
   "outputs": [
    {
     "data": {
      "text/plain": [
       "[[1], [1, 1], [1, 2, 1]]"
      ]
     },
     "execution_count": 21,
     "metadata": {},
     "output_type": "execute_result"
    }
   ],
   "source": [
    "pascal(2)"
   ]
  },
  {
   "cell_type": "code",
   "execution_count": 22,
   "metadata": {},
   "outputs": [
    {
     "data": {
      "text/plain": [
       "[1, 3, 3, 1]"
      ]
     },
     "execution_count": 22,
     "metadata": {},
     "output_type": "execute_result"
    }
   ],
   "source": [
    "pascal(3, False)"
   ]
  },
  {
   "cell_type": "markdown",
   "metadata": {},
   "source": [
    "## Funkcja pascal_napis() "
   ]
  },
  {
   "cell_type": "code",
   "execution_count": 3,
   "metadata": {},
   "outputs": [],
   "source": [
    "def pascal_napis(n=1, x='x', y='y'):\n",
    "    \"\"\"Funkcja zwraca wynik równania postaci (x+y)^n. \n",
    "\n",
    "    Argumenty:\n",
    "    n (int): potęga (domyslnie 1)\n",
    "    x (str): nazwa zmiennej (domyślnie 'x')\n",
    "    y (str): nazwa zmiennej (domyślnie 'y')\n",
    "\n",
    "    \"\"\"\n",
    "    wspolczynniki = pascal(n, False)\n",
    "    zmienne = [x, y]\n",
    "    mnozone = []\n",
    "    potegi = []\n",
    "    for a in range(n+1):\n",
    "        potegi.append([n-a, a])\n",
    "        wynik = []\n",
    "        if wspolczynniki[a] != 1:\n",
    "            wynik.append(str(wspolczynniki[a]))\n",
    "        else:\n",
    "            None\n",
    "        for i in range(2):\n",
    "            if potegi[a][i] == 1:\n",
    "                wynik.append(zmienne[i])\n",
    "            elif potegi[a][i] > 1:\n",
    "                wynik.append(zmienne[i]+'^'+str(potegi[a][i]))\n",
    "            else:\n",
    "                None\n",
    "        mnozone.append('*'.join(wynik))\n",
    "    rozwiazanie = ' + '.join(mnozone)\n",
    "    return rozwiazanie"
   ]
  },
  {
   "cell_type": "code",
   "execution_count": 4,
   "metadata": {},
   "outputs": [
    {
     "data": {
      "text/plain": [
       "'x^3 + 3*x^2*y + 3*x*y^2 + y^3'"
      ]
     },
     "execution_count": 4,
     "metadata": {},
     "output_type": "execute_result"
    }
   ],
   "source": [
    "pascal_napis(3)"
   ]
  },
  {
   "cell_type": "code",
   "execution_count": 5,
   "metadata": {},
   "outputs": [
    {
     "data": {
      "text/plain": [
       "'a^2 + 2*a*b + b^2'"
      ]
     },
     "execution_count": 5,
     "metadata": {},
     "output_type": "execute_result"
    }
   ],
   "source": [
    "pascal_napis(2, 'a', 'b')"
   ]
  },
  {
   "cell_type": "markdown",
   "metadata": {},
   "source": [
    "## Funkcja piramida_pascal()"
   ]
  },
  {
   "cell_type": "code",
   "execution_count": 26,
   "metadata": {},
   "outputs": [],
   "source": [
    "def piramida_pascal(n=1):\n",
    "    \"\"\"Funkcja zwraca piramidę pascala w formacie listy.\n",
    "\n",
    "    Argumenty:\n",
    "    n (int): ilość pięter piramidy (domyślnie 1)\n",
    "\n",
    "    \"\"\"\n",
    "    wynik = [[1], [1, 1]]\n",
    "    for _ in range(n-1):\n",
    "        poprzednie = wynik[-1]\n",
    "        nowy = [1, 1]\n",
    "        for x in range(len(poprzednie)-1):\n",
    "            nowa_liczba = poprzednie[x]+poprzednie[x+1]\n",
    "            nowy.insert(-1, nowa_liczba)\n",
    "        wynik.append(nowy)\n",
    "    for x in range(n+1):\n",
    "        wynik[x] = [a*wynik[-1][x] for a in wynik[x]]\n",
    "    return wynik"
   ]
  },
  {
   "cell_type": "code",
   "execution_count": 27,
   "metadata": {},
   "outputs": [
    {
     "data": {
      "text/plain": [
       "[[1], [1, 1]]"
      ]
     },
     "execution_count": 27,
     "metadata": {},
     "output_type": "execute_result"
    }
   ],
   "source": [
    "piramida_pascal()"
   ]
  },
  {
   "cell_type": "code",
   "execution_count": 28,
   "metadata": {},
   "outputs": [
    {
     "data": {
      "text/plain": [
       "[[1], [4, 4], [6, 12, 6], [4, 12, 12, 4], [1, 4, 6, 4, 1]]"
      ]
     },
     "execution_count": 28,
     "metadata": {},
     "output_type": "execute_result"
    }
   ],
   "source": [
    "piramida_pascal(4)"
   ]
  },
  {
   "cell_type": "markdown",
   "metadata": {},
   "source": [
    "## Funkcja piramida_pascal_napis()"
   ]
  },
  {
   "cell_type": "code",
   "execution_count": 58,
   "metadata": {},
   "outputs": [],
   "source": [
    "from itertools import chain\n",
    "\n",
    "\n",
    "def piramida_pascal_napis(n=1, x='x', y='y', z='z'):\n",
    "    \"\"\"Funkcja zwraca wynik równania postaci (x+y+z)^n. \n",
    "\n",
    "    Argumenty:\n",
    "    n (int): potęga (domyslnie 1)\n",
    "    x (str): nazwa zmiennej (domyślnie 'x')\n",
    "    y (str): nazwa zmiennej (domyślnie 'y')\n",
    "    z (str): nazwa zmiennej (domyślnie 'z')\n",
    "\n",
    "    \"\"\"\n",
    "    a = piramida_pascal(n)\n",
    "    zmienne = [x, y, z]\n",
    "    wspolczynniki = list(itertools.chain.from_iterable(a))\n",
    "    czesci = []\n",
    "    potegi = []\n",
    "    for i in range(n+1):\n",
    "        for j in range(n+1-i):\n",
    "            potegi.insert(0, [i, n-j-i, j])\n",
    "\n",
    "    for a in range(len(wspolczynniki)):\n",
    "        poj = []\n",
    "        if wspolczynniki[a] != 1:\n",
    "            poj.append(str(wspolczynniki[a]))\n",
    "        else:\n",
    "            None\n",
    "        for i in range(3):\n",
    "            if potegi[a][i] == 1:\n",
    "                poj.append(zmienne[i])\n",
    "            if potegi[a][i] > 1:\n",
    "                poj.append(zmienne[i]+'^'+str(potegi[a][i]))\n",
    "            else:\n",
    "                None\n",
    "        czesci.append(\"*\".join(poj))\n",
    "    dodaj = \" + \".join(czesci)\n",
    "    return dodaj\n",
    "\n",
    "# Funkcja chain.from_iterable() łączy wszystkie elementy wszystkich \n",
    "# list w jedną listę."
   ]
  },
  {
   "cell_type": "code",
   "execution_count": 59,
   "metadata": {},
   "outputs": [
    {
     "data": {
      "text/plain": [
       "'x^4 + 4*x^3*z + 4*x^3*y + 6*x^2*z^2 + 12*x^2*y*z + 6*x^2*y^2 + 4*x*z^3 + 12*x*y*z^2 + 12*x*y^2*z + 4*x*y^3 + z^4 + 4*y*z^3 + 6*y^2*z^2 + 4*y^3*z + y^4'"
      ]
     },
     "execution_count": 59,
     "metadata": {},
     "output_type": "execute_result"
    }
   ],
   "source": [
    "piramida_pascal_napis(4)"
   ]
  },
  {
   "cell_type": "code",
   "execution_count": 60,
   "metadata": {},
   "outputs": [
    {
     "data": {
      "text/plain": [
       "'a^4 + 4*a^3*c + 4*a^3*b + 6*a^2*c^2 + 12*a^2*b*c + 6*a^2*b^2 + 4*a*c^3 + 12*a*b*c^2 + 12*a*b^2*c + 4*a*b^3 + c^4 + 4*b*c^3 + 6*b^2*c^2 + 4*b^3*c + b^4'"
      ]
     },
     "execution_count": 60,
     "metadata": {},
     "output_type": "execute_result"
    }
   ],
   "source": [
    "piramida_pascal_napis(4, 'a', 'b', 'c')"
   ]
  },
  {
   "cell_type": "markdown",
   "metadata": {},
   "source": [
    "## Sprawdzanie wyników"
   ]
  },
  {
   "cell_type": "code",
   "execution_count": 6,
   "metadata": {
    "scrolled": true
   },
   "outputs": [
    {
     "data": {
      "text/plain": [
       "True"
      ]
     },
     "execution_count": 6,
     "metadata": {},
     "output_type": "execute_result"
    }
   ],
   "source": [
    "eval(pascal_napis(20, \"6\", \"9\").replace(\"^\", \"**\")) == 15**20"
   ]
  },
  {
   "cell_type": "code",
   "execution_count": 7,
   "metadata": {
    "scrolled": false
   },
   "outputs": [
    {
     "data": {
      "text/plain": [
       "True"
      ]
     },
     "execution_count": 7,
     "metadata": {},
     "output_type": "execute_result"
    }
   ],
   "source": [
    "eval(pascal_napis(10, \"3\", \"1\").replace(\"^\", \"**\")) == 4**10"
   ]
  },
  {
   "cell_type": "code",
   "execution_count": 63,
   "metadata": {
    "scrolled": false
   },
   "outputs": [
    {
     "data": {
      "text/plain": [
       "True"
      ]
     },
     "execution_count": 63,
     "metadata": {},
     "output_type": "execute_result"
    }
   ],
   "source": [
    "eval(pascal_napis(20, \"6\", \"(-2)\").replace(\"^\", \"**\")) == 4**20"
   ]
  },
  {
   "cell_type": "code",
   "execution_count": 64,
   "metadata": {
    "scrolled": true
   },
   "outputs": [
    {
     "data": {
      "text/plain": [
       "True"
      ]
     },
     "execution_count": 64,
     "metadata": {},
     "output_type": "execute_result"
    }
   ],
   "source": [
    "eval(piramida_pascal_napis(10, \"1\", \"1\", \"1\").replace(\"^\", \"**\")) == 59049"
   ]
  },
  {
   "cell_type": "code",
   "execution_count": 65,
   "metadata": {},
   "outputs": [
    {
     "data": {
      "text/plain": [
       "True"
      ]
     },
     "execution_count": 65,
     "metadata": {},
     "output_type": "execute_result"
    }
   ],
   "source": [
    "eval(piramida_pascal_napis(20, \"1\", \"0\", \"1\").replace(\"^\", \"**\")) == 1024**2"
   ]
  }
 ],
 "metadata": {
  "kernelspec": {
   "display_name": "Python 3",
   "language": "python",
   "name": "python3"
  },
  "language_info": {
   "codemirror_mode": {
    "name": "ipython",
    "version": 3
   },
   "file_extension": ".py",
   "mimetype": "text/x-python",
   "name": "python",
   "nbconvert_exporter": "python",
   "pygments_lexer": "ipython3",
   "version": "3.7.4"
  },
  "toc": {
   "base_numbering": 1,
   "nav_menu": {},
   "number_sections": true,
   "sideBar": true,
   "skip_h1_title": false,
   "title_cell": "Table of Contents",
   "title_sidebar": "Contents",
   "toc_cell": false,
   "toc_position": {
    "height": "calc(100% - 180px)",
    "left": "10px",
    "top": "150px",
    "width": "384px"
   },
   "toc_section_display": true,
   "toc_window_display": false
  },
  "varInspector": {
   "cols": {
    "lenName": 16,
    "lenType": 16,
    "lenVar": 40
   },
   "kernels_config": {
    "python": {
     "delete_cmd_postfix": "",
     "delete_cmd_prefix": "del ",
     "library": "var_list.py",
     "varRefreshCmd": "print(var_dic_list())"
    },
    "r": {
     "delete_cmd_postfix": ") ",
     "delete_cmd_prefix": "rm(",
     "library": "var_list.r",
     "varRefreshCmd": "cat(var_dic_list()) "
    }
   },
   "oldHeight": 122,
   "position": {
    "height": "362px",
    "left": "587px",
    "right": "20px",
    "top": "257px",
    "width": "416px"
   },
   "types_to_exclude": [
    "module",
    "function",
    "builtin_function_or_method",
    "instance",
    "_Feature"
   ],
   "varInspector_section_display": "block",
   "window_display": false
  }
 },
 "nbformat": 4,
 "nbformat_minor": 2
}
