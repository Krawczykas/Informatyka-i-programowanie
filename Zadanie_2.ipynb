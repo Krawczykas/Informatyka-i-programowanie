{
 "cells": [
  {
   "cell_type": "markdown",
   "metadata": {},
   "source": [
    "Unicode – komputerowy zestaw znaków mający w zamierzeniu obejmować wszystkie pisma używane na świecie. Definiują go dwa standardy – Unicode oraz ISO 10646. Znaki obu standardów są identyczne. Standardy te różnią się w drobnych kwestiach, m.in. Unicode określa sposób składu. <br>\n",
    "Początki Unicode sięgają 1987 r., Kiedy Joe Becker z Xerox wraz z Lee Collinsem i Markiem Davisem z Apple rozpoczął badanie praktycznych aspektów tworzenia uniwersalnego zestawu znaków . Opublikowali oni szkic propozycji \"międzynarodowego / wielojęzycznego systemu kodowania znaków w tekście w sierpniu 1988 roku, wstępnie nazwanego Unicode\". Nazwa „Unicode” ma sugerować unikalne, ujednolicone, uniwersalne kodowanie”.<br>\n",
    "W Pythonie jednak ze względu na trudności w przetwarzaniu napisów, w których każdy znak ma inną długość, wykorzystano inne rozwiązanie — Python sam przełącza pomiędzy jednym z trzech popularnych systemów: ISO 8859-2, UCS-2 oraz UCS-4. I tak znaki napisu „Ala ma kota” będą zapisane w ISO 8859-2 czyli kodowaniu zachodnioeuropejskim, czyli po jednym bajcie na znak (jest 11 znaków, więc 11 bajtów będzie poświęcone na zapis znaków). Dodanie do tego literki spoza alfabetu zachodnioeuropejskiego powoduje, że każda litera zajmuje już nie jeden a dwa bajty, więc w napisie „Ala ma kota Świdrygiełłę” mającym 24 znaki, wykorzystamy 48 bajtów.\n",
    "<br>\n",
    "W pythonie mozemy używać Unikodu poprzez wpisanie kodu odpowiedniego znaku poprzedzając go \"\\u\". \n",
    "\n",
    "\n"
   ]
  },
  {
   "cell_type": "markdown",
   "metadata": {},
   "source": [
    "Zad 1 Tabela wyników"
   ]
  },
  {
   "cell_type": "code",
   "execution_count": null,
   "metadata": {},
   "outputs": [],
   "source": [
    "A = input('Nazwa drużyny A:')\n",
    "Aw = input(f'Wynik {A}:')\n",
    "B = input('Nazwa drużyny B:')\n",
    "Bw = input(f'Wynik {B}:')\n",
    "C = input('Nazwa drużyny C:')\n",
    "Cw = input(f'Wynik {C}:')\n",
    "D = input('Nazwa drużyny D:')\n",
    "Dw = input(f'Wynik {D}:')\n",
    "tytuł = 'Tabela Wyników'\n",
    "\n",
    "\n",
    "góra = '\\u2554' + 31*'\\u2550' + '\\u2557\\n'\n",
    "tabela_wyników = '\\u2551{: ^{n}}\\u2551\\n'.format(tytuł, n= 31)\n",
    "linia3 = '\\u2560' + 15*'\\u2550'+'\\u2566' + 15*'\\u2550' + '\\u2563\\n'\n",
    "linia_dzieląca = '\\u2560' + 15*'\\u2550'+'\\u256C' + 15*'\\u2550' + '\\u2563\\n'\n",
    "dół  = '\\u255A' + 15*'\\u2550' + '\\u2569' + 15*'\\u2550' + '\\u255D\\n'\n",
    "\n",
    "drużynaA = '\\u2551{: ^{n}}\\u2551'.format(A, n= 15)\n",
    "wynikA = '{: >{n}}'.format(Aw, n=8) + 7*' ' + '\\u2551\\n'\n",
    "\n",
    "drużynaB = '\\u2551{: ^{n}}\\u2551'.format(B, n= 15)\n",
    "wynikB = '{: >{n}}'.format(Bw, n=8) + 7*' ' + '\\u2551\\n'\n",
    "\n",
    "drużynaC = '\\u2551{: ^{n}}\\u2551'.format(C, n= 15)\n",
    "wynikC = '{: >{n}}'.format(Cw, n=8) + 7*' ' + '\\u2551\\n'\n",
    "\n",
    "drużynaD = '\\u2551{: ^{n}}\\u2551'.format(D, n= 15)\n",
    "wynikD = '{: >{n}}'.format(Dw, n=8) + 7*' ' + '\\u2551\\n'\n",
    "\n",
    "print(góra \n",
    "      +tabela_wyników\n",
    "      +linia3\n",
    "      +drużynaA + wynikA\n",
    "      +linia_dzieląca\n",
    "      +drużynaB + wynikB\n",
    "      +linia_dzieląca\n",
    "      +drużynaC + wynikC\n",
    "      +linia_dzieląca\n",
    "      +drużynaD + wynikD\n",
    "      +dół)"
   ]
  },
  {
   "cell_type": "markdown",
   "metadata": {},
   "source": [
    "Zad 2 Porównywanie wyników"
   ]
  },
  {
   "cell_type": "code",
   "execution_count": null,
   "metadata": {},
   "outputs": [],
   "source": [
    "A , Aw = input('Podaj informacje o pierwszej drużynie: ').split(',')\n",
    "B, Bw = input('Podaj informacje o drugiej drużynie: ').split(',')\n",
    "\n",
    "r = str(abs(int(Aw)-int(Bw)))\n",
    "s = str(round(int(Aw)/int(Bw),2))\n",
    "w = A if Aw>Bw else B if Bw>Aw else 'Remis'\n",
    "\n",
    "\n",
    "tytuł = f'{A}({Aw}) vs {B}({Bw})'\n",
    "sz = 15 if len(tytuł)<28 else len(tytuł)//2 +1 \n",
    "tekst1 = 'Różnica'\n",
    "tekst2 = 'Stosunek'\n",
    "tekst3 = 'Kto lepszy?'\n",
    "\n",
    "góra = '\\u2554' + (2*sz +1)*'\\u2550' + '\\u2557\\n'\n",
    "druzyny = '\\u2551{: ^{n}}\\u2551\\n'.format(tytuł, n=(2*sz)+1)\n",
    "linia3 = '\\u2560' + sz*'\\u2550'+'\\u2566' + sz*'\\u2550' + '\\u2563\\n'\n",
    "linia_dzieląca = '\\u2560' + sz*'\\u2550'+'\\u256C' + sz*'\\u2550' + '\\u2563\\n'\n",
    "dół  = '\\u255A' + sz*'\\u2550' + '\\u2569' + sz*'\\u2550' + '\\u255D\\n'\n",
    "\n",
    "różnica = '\\u2551{: ^{n}}\\u2551'.format(tekst1, n= sz)\n",
    "wynik_różnica = '{: ^{n}}\\u2551\\n'.format(r, n= sz)\n",
    "stosunek = '\\u2551{: ^{n}}\\u2551'.format(tekst2, n= sz)\n",
    "wynik_stosunek =  '{: ^{n}}\\u2551\\n'.format(s, n=sz)\n",
    "kto_lepszy = '\\u2551{: ^{n}}\\u2551'.format(tekst3, n= sz)\n",
    "wynik_kto_lepszy = '{: ^{n}}\\u2551\\n'.format(w, n= sz)\n",
    "print(góra \n",
    "      +druzyny\n",
    "      +linia3\n",
    "      +różnica + wynik_różnica\n",
    "      +linia_dzieląca\n",
    "      +stosunek +wynik_stosunek\n",
    "      +linia_dzieląca\n",
    "      +kto_lepszy +wynik_kto_lepszy\n",
    "      +dół)"
   ]
  },
  {
   "cell_type": "code",
   "execution_count": null,
   "metadata": {},
   "outputs": [],
   "source": []
  }
 ],
 "metadata": {
  "kernelspec": {
   "display_name": "Python 3",
   "language": "python",
   "name": "python3"
  },
  "language_info": {
   "codemirror_mode": {
    "name": "ipython",
    "version": 3
   },
   "file_extension": ".py",
   "mimetype": "text/x-python",
   "name": "python",
   "nbconvert_exporter": "python",
   "pygments_lexer": "ipython3",
   "version": "3.7.4"
  }
 },
 "nbformat": 4,
 "nbformat_minor": 2
}
