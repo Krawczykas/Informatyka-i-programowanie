{
 "cells": [
  {
   "cell_type": "code",
   "execution_count": 1,
   "metadata": {},
   "outputs": [],
   "source": [
    "import numpy as np\n",
    "import math"
   ]
  },
  {
   "cell_type": "code",
   "execution_count": 2,
   "metadata": {},
   "outputs": [],
   "source": [
    "def xgdc(a, b):\n",
    "    '''\n",
    "    Funkcja zwraca jedno z możliwych rozwiązań\n",
    "    równania a*x + b*y = k dla całkowitych\n",
    "    k, x, y.\n",
    "\n",
    "    Argumenty:\n",
    "        a (int) - argument przy x\n",
    "        b (int) - argument przy y\n",
    "    '''\n",
    "    if b == 0:\n",
    "        return(a, 1, 0)\n",
    "    else:\n",
    "        g, x, y = xgdc(b, a % b)\n",
    "        return (g, y, x - (a//b) * y)\n",
    "\n",
    "\n",
    "def NWD(a, b):\n",
    "    '''\n",
    "    Funcja zwraca największy wspólny dzielnik\n",
    "    liczb a i b.\n",
    "\n",
    "    Argumenty:\n",
    "        a (int) - pierwsza liczba\n",
    "        b (int) - druga liczba\n",
    "    '''\n",
    "    c = 0\n",
    "    while b != 0:\n",
    "        c = a % b\n",
    "        a, b = b, c\n",
    "    return a\n",
    "\n",
    "\n",
    "def rozw2(a, b, c):\n",
    "    '''\n",
    "    Funkcja zwraca jedno rozwiązanie \n",
    "    równania postaci a*x + b*y = c\n",
    "    dla całkowitych x, y. \n",
    "\n",
    "    Argumenty:\n",
    "        a (int) - argument przy x\n",
    "        b (int) - argument przy y\n",
    "        c (int) - wynik równania \n",
    "\n",
    "    '''\n",
    "    if c % NWD(a, b) != 0:\n",
    "        return None\n",
    "    else:\n",
    "        g, x1, y1 = xgdc(a, b)\n",
    "        return (x1*c//g, y1*c//g)\n",
    "\n",
    "\n",
    "def dodatni_przedzial(x, e):\n",
    "    '''\n",
    "    Funkcja zwraca przedział dla k w którym równanie\n",
    "    postaci x_k = x + e*k jest dodatnie. \n",
    "\n",
    "    Argumenty:\n",
    "        x (int) - zmienna\n",
    "        e (int) - argument przy k\n",
    "    '''\n",
    "    if x >= 0 and e > 0:\n",
    "        return(-(x/e), np.float('inf'))\n",
    "    if x >= 0 and e < 0:\n",
    "        return(np.float('-inf'), -(x/e))\n",
    "    if x < 0 and e > 0:\n",
    "        return(-(x/e), np.float('inf'))\n",
    "    if x < 0 and e < 0:\n",
    "        return(np.float('-inf'), -(x/e))\n",
    "\n",
    "\n",
    "def przedzial(przedzial1, przedzial2):\n",
    "    '''\n",
    "    Funkcja zwraca wspólny przedział \n",
    "    dwóch przedziałów. Jeśli przedziały \n",
    "    są rozłączne zwraca None.\n",
    "\n",
    "    Argumenty:\n",
    "        przedzial1 (tuple) - pierwszy przedział\n",
    "        przedzial2 (tuple) - drugi przedział\n",
    "    '''\n",
    "    if przedzial1[1] < przedzial2[0]:\n",
    "        return None\n",
    "    elif przedzial1[0] > przedzial2[1]:\n",
    "        return None\n",
    "    else:\n",
    "        x1 = max(przedzial1[0], przedzial2[0])\n",
    "        xr = min(przedzial1[1], przedzial2[1])\n",
    "        return (x1, xr)"
   ]
  },
  {
   "cell_type": "code",
   "execution_count": 3,
   "metadata": {},
   "outputs": [],
   "source": [
    "def naturalne_rozwiazanie(a, b, c, k):\n",
    "    '''\n",
    "    Funkcja zwraca wszystkie trójki liczb \n",
    "    naturalnych spełniających równanie \n",
    "    postaci a*x + b*y + c*z = k\n",
    "\n",
    "    Argumenty:\n",
    "    a (int) - argument przy x\n",
    "    b (int) - argument przy y\n",
    "    c (int) - argument przy z\n",
    "    k (int) - wynik równania \n",
    "\n",
    "    '''\n",
    "\n",
    "    # 1. Sprawdzenie czy istnieją całkowite wyniki\n",
    "    mianownik = NWD(NWD(a, b), c)\n",
    "    if k % (mianownik) != 0:\n",
    "        print('Nie ma całkowitych rozwiązań')\n",
    "    else:\n",
    "        # 2. Rozwiązanie pierwszego równania\n",
    "        w, z = rozw2(NWD(a, b), c, k)\n",
    "\n",
    "        # 3. Sprawdzenie przedziału dla k (dodatnie w i z)\n",
    "        przedzial_w_k = dodatni_przedzial(w, c//mianownik)\n",
    "        przedzial_z_k = dodatni_przedzial(z, -NWD(a, b)//mianownik)\n",
    "\n",
    "        przedzial_k = przedzial(przedzial_w_k, przedzial_z_k)\n",
    "\n",
    "        wyniki = []\n",
    "        # 4. Sprawdzanie przedziału dla dodatniego x i y\n",
    "        for m in range(math.ceil(przedzial_k[0]), math.ceil(przedzial_k[1])+1):\n",
    "            w_m = w + (c//mianownik)*m\n",
    "            x, y = rozw2(a, b, NWD(a, b)*w_m)\n",
    "\n",
    "            przedzial_x_k = dodatni_przedzial(x, b//NWD(a, b))\n",
    "            przedzial_y_k = dodatni_przedzial(y, -a//NWD(a, b))\n",
    "\n",
    "            g = przedzial(przedzial_x_k, przedzial_y_k)\n",
    "\n",
    "            if g[0] % 1 == 0:\n",
    "                początek = int(g[0])\n",
    "            else:\n",
    "                początek = math.floor(g[0]+1)\n",
    "\n",
    "            # 5. Policzenie naturalnych wyników\n",
    "            for n in range(początek, math.floor(g[1]+1)):\n",
    "                wynik_x = x + b*n\n",
    "                wynik_y = y - a*n\n",
    "                wynik_z = (k-a*wynik_x-b*wynik_y)//c\n",
    "                wyniki.append((wynik_x, wynik_y, wynik_z))\n",
    "\n",
    "        if len(wyniki) == 0:\n",
    "            print('Nie ma naturalnych rozwiązań')\n",
    "        else:\n",
    "            return wyniki"
   ]
  },
  {
   "cell_type": "markdown",
   "metadata": {},
   "source": [
    "Przykłady"
   ]
  },
  {
   "cell_type": "code",
   "execution_count": 4,
   "metadata": {},
   "outputs": [
    {
     "data": {
      "text/plain": [
       "[(0, 2, 1), (3, 0, 0)]"
      ]
     },
     "execution_count": 4,
     "metadata": {},
     "output_type": "execute_result"
    }
   ],
   "source": [
    "naturalne_rozwiazanie(202, 203, 200, 606)"
   ]
  },
  {
   "cell_type": "code",
   "execution_count": 5,
   "metadata": {},
   "outputs": [
    {
     "name": "stdout",
     "output_type": "stream",
     "text": [
      "Nie ma naturalnych rozwiązań\n"
     ]
    }
   ],
   "source": [
    "naturalne_rozwiazanie(202, 203, 200, 610)"
   ]
  },
  {
   "cell_type": "code",
   "execution_count": 6,
   "metadata": {},
   "outputs": [
    {
     "name": "stdout",
     "output_type": "stream",
     "text": [
      "Nie ma całkowitych rozwiązań\n"
     ]
    }
   ],
   "source": [
    "naturalne_rozwiazanie(2, 2, 2, 3)"
   ]
  }
 ],
 "metadata": {
  "kernelspec": {
   "display_name": "Python 3",
   "language": "python",
   "name": "python3"
  },
  "language_info": {
   "codemirror_mode": {
    "name": "ipython",
    "version": 3
   },
   "file_extension": ".py",
   "mimetype": "text/x-python",
   "name": "python",
   "nbconvert_exporter": "python",
   "pygments_lexer": "ipython3",
   "version": "3.7.4"
  },
  "toc": {
   "base_numbering": 1,
   "nav_menu": {},
   "number_sections": true,
   "sideBar": true,
   "skip_h1_title": false,
   "title_cell": "Table of Contents",
   "title_sidebar": "Contents",
   "toc_cell": false,
   "toc_position": {},
   "toc_section_display": true,
   "toc_window_display": false
  },
  "varInspector": {
   "cols": {
    "lenName": 16,
    "lenType": 16,
    "lenVar": 40
   },
   "kernels_config": {
    "python": {
     "delete_cmd_postfix": "",
     "delete_cmd_prefix": "del ",
     "library": "var_list.py",
     "varRefreshCmd": "print(var_dic_list())"
    },
    "r": {
     "delete_cmd_postfix": ") ",
     "delete_cmd_prefix": "rm(",
     "library": "var_list.r",
     "varRefreshCmd": "cat(var_dic_list()) "
    }
   },
   "types_to_exclude": [
    "module",
    "function",
    "builtin_function_or_method",
    "instance",
    "_Feature"
   ],
   "window_display": false
  }
 },
 "nbformat": 4,
 "nbformat_minor": 2
}
